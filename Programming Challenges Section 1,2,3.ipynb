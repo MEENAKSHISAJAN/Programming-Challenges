{
 "cells": [
  {
   "cell_type": "markdown",
   "metadata": {},
   "source": [
    "## Three in, three out"
   ]
  },
  {
   "cell_type": "code",
   "execution_count": 5,
   "metadata": {},
   "outputs": [
    {
     "name": "stdout",
     "output_type": "stream",
     "text": [
      "Please enter your name:Lister\n",
      "what is your age?39\n",
      "What is your favourite TV programme?Red Dwarf\n",
      "Lister\n",
      "is\n",
      "39\n",
      "years old and likes\n",
      "Red Dwarf\n"
     ]
    }
   ],
   "source": [
    "name=str(input(\"Please enter your name:\"))\n",
    "age=int(input(\"what is your age?\"))\n",
    "prog=str(input(\"What is your favourite TV programme?\"))\n",
    "print(name)\n",
    "print(\"is\")\n",
    "print(age)\n",
    "print(\"years old and likes\")\n",
    "print(prog)"
   ]
  },
  {
   "cell_type": "markdown",
   "metadata": {},
   "source": [
    "## Name Swapper"
   ]
  },
  {
   "cell_type": "code",
   "execution_count": 6,
   "metadata": {},
   "outputs": [
    {
     "name": "stdout",
     "output_type": "stream",
     "text": [
      "Enter your first name:David\n",
      "Enter your last name:Tennant\n",
      "Tennant David\n"
     ]
    }
   ],
   "source": [
    "first_name=str(input(\"Enter your first name:\"))\n",
    "last_name=str(input(\"Enter your last name:\"))\n",
    "print(last_name, first_name)"
   ]
  },
  {
   "cell_type": "markdown",
   "metadata": {},
   "source": [
    "## Three in, three out(Formatted)"
   ]
  },
  {
   "cell_type": "code",
   "execution_count": 8,
   "metadata": {},
   "outputs": [
    {
     "name": "stdout",
     "output_type": "stream",
     "text": [
      "Please enter your name:Lister\n",
      "what is your age?39\n",
      "What is your favourite TV programme?Red Dwarf\n",
      "Lister 39\n",
      "Likes watching Red Dwarf\n"
     ]
    }
   ],
   "source": [
    "name=str(input(\"Please enter your name:\"))\n",
    "age=int(input(\"what is your age?\"))\n",
    "prog=str(input(\"What is your favourite TV programme?\"))\n",
    "print(name,age)\n",
    "print(\"Likes watching\", prog)"
   ]
  },
  {
   "cell_type": "markdown",
   "metadata": {},
   "source": [
    "## Post formatter"
   ]
  },
  {
   "cell_type": "code",
   "execution_count": 9,
   "metadata": {},
   "outputs": [
    {
     "name": "stdout",
     "output_type": "stream",
     "text": [
      "KY\n",
      "8\n",
      "9\n",
      "HL\n",
      "KY8    9HL\n"
     ]
    }
   ],
   "source": [
    "p1=input()\n",
    "p2=input()\n",
    "p3=input()\n",
    "p4=input()\n",
    "print(p1+p2,\"  \",p3+p4)"
   ]
  },
  {
   "cell_type": "markdown",
   "metadata": {},
   "source": [
    "## Area of a Rectangle"
   ]
  },
  {
   "cell_type": "code",
   "execution_count": 3,
   "metadata": {},
   "outputs": [
    {
     "name": "stdout",
     "output_type": "stream",
     "text": [
      "Please enter the following values in cm.\n",
      "Please enter the length of the rectangle.\n",
      "12\n",
      "Please enter the width of the rectangle.\n",
      "6\n",
      "The area of the rectangle is:\n",
      "72 square centimeters\n"
     ]
    }
   ],
   "source": [
    "print(\"Please enter the following values in cm.\")\n",
    "print(\"Please enter the length of the rectangle.\")\n",
    "length=int(input())\n",
    "print(\"Please enter the width of the rectangle.\")\n",
    "width=int(input())\n",
    "area=length*width\n",
    "print(\"The area of the rectangle is:\")\n",
    "print(area, \"square centimeters\")"
   ]
  },
  {
   "cell_type": "markdown",
   "metadata": {},
   "source": [
    "## Number generator"
   ]
  },
  {
   "cell_type": "code",
   "execution_count": 7,
   "metadata": {},
   "outputs": [
    {
     "name": "stdout",
     "output_type": "stream",
     "text": [
      "2\n",
      "6\n",
      "26\n"
     ]
    }
   ],
   "source": [
    "num1=str(input())\n",
    "num2=str(input())\n",
    "print(num1+num2)"
   ]
  },
  {
   "cell_type": "markdown",
   "metadata": {},
   "source": [
    "## Postcard formatter 2"
   ]
  },
  {
   "cell_type": "code",
   "execution_count": 8,
   "metadata": {},
   "outputs": [
    {
     "name": "stdout",
     "output_type": "stream",
     "text": [
      "Ky\n",
      "8\n",
      "9\n",
      "hl\n",
      "KY8   9HL\n"
     ]
    }
   ],
   "source": [
    "p1=input()\n",
    "p2=input()\n",
    "p3=input()\n",
    "p4=input()\n",
    "up1=p1.upper()\n",
    "up4=p4.upper()\n",
    "print(up1+p2,\" \",p3+up4)"
   ]
  },
  {
   "cell_type": "markdown",
   "metadata": {},
   "source": [
    "## Name length"
   ]
  },
  {
   "cell_type": "code",
   "execution_count": 9,
   "metadata": {},
   "outputs": [
    {
     "name": "stdout",
     "output_type": "stream",
     "text": [
      "Please enter your forename:\n",
      "David\n",
      "Please enter your surname:\n",
      "stott\n",
      "There are 10 letters in your name.\n"
     ]
    }
   ],
   "source": [
    "print(\"Please enter your forename:\")\n",
    "forename=input()\n",
    "print(\"Please enter your surname:\")\n",
    "surname=input()\n",
    "total=len(forename)+len(surname)\n",
    "print(\"There are\", total, \"letters in your name.\")"
   ]
  },
  {
   "cell_type": "markdown",
   "metadata": {},
   "source": [
    "## Counting vowels"
   ]
  },
  {
   "cell_type": "code",
   "execution_count": 11,
   "metadata": {},
   "outputs": [
    {
     "name": "stdout",
     "output_type": "stream",
     "text": [
      "Please enter a sentence of your choice.\n",
      "Luke I am your father\n",
      "your sentence contained the following:\n",
      "a= 2\n",
      "e= 2\n",
      "i= 1\n",
      "o= 1\n",
      "u= 2\n",
      "This is a total of 8 vowels.\n"
     ]
    }
   ],
   "source": [
    "print(\"Please enter a sentence of your choice.\")\n",
    "sentenc=input()\n",
    "sentence=sentenc.lower()\n",
    "print(\"your sentence contained the following:\")\n",
    "print(\"a=\",sentence.count(\"a\"))\n",
    "print(\"e=\",sentence.count(\"e\"))\n",
    "print(\"i=\",sentence.count(\"i\"))\n",
    "print(\"o=\",sentence.count(\"o\"))\n",
    "print(\"u=\",sentence.count(\"u\"))\n",
    "print(\"This is a total of\", sentence.count(\"a\")+sentence.count(\"e\")+sentence.count(\"i\")+sentence.count(\"o\")+sentence.count(\"u\"),\"vowels.\")"
   ]
  },
  {
   "cell_type": "markdown",
   "metadata": {},
   "source": [
    "## Changing gender "
   ]
  },
  {
   "cell_type": "code",
   "execution_count": 2,
   "metadata": {},
   "outputs": [
    {
     "name": "stdout",
     "output_type": "stream",
     "text": [
      "Please enter the male report.\n",
      "He should always ensure that his answers contain as much detail as possible.\n",
      "The female comment is:\n",
      "She should always ensure that her answers contain as much detail as possible.\n"
     ]
    }
   ],
   "source": [
    "print(\"Please enter the male report.\")\n",
    "mreport=input()\n",
    "freport=mreport.replace(\"His \",\"Her \")\n",
    "freport=freport.replace(\"He \",\"She \")\n",
    "freport=freport.replace(\" his \",\" her \")\n",
    "freport=freport.replace(\" he \",\" she \")\n",
    "print(\"The female comment is:\")\n",
    "print(freport)"
   ]
  },
  {
   "cell_type": "markdown",
   "metadata": {},
   "source": [
    "## Stock code generator"
   ]
  },
  {
   "cell_type": "code",
   "execution_count": 8,
   "metadata": {},
   "outputs": [
    {
     "name": "stdout",
     "output_type": "stream",
     "text": [
      "Please enter the product name.\n",
      "Plaza Beans\n",
      "Please enter the year.\n",
      "2016\n",
      "Plns26\n"
     ]
    }
   ],
   "source": [
    "print(\"Please enter the product name.\")\n",
    "prod=input()\n",
    "print(\"Please enter the year.\")\n",
    "year=input()\n",
    "code1=prod[0:2]\n",
    "code2=prod[-2:]\n",
    "code3=year[:1]\n",
    "code4=year[-1:]\n",
    "print(code1+code2+code3+code4)"
   ]
  },
  {
   "cell_type": "markdown",
   "metadata": {},
   "source": [
    "## Auction fee"
   ]
  },
  {
   "cell_type": "code",
   "execution_count": 12,
   "metadata": {},
   "outputs": [
    {
     "name": "stdout",
     "output_type": "stream",
     "text": [
      "Please enter your three costs.\n",
      "12.78\n",
      "6.32\n",
      "34.99\n",
      "The total cost is $ 54.09\n",
      "The auction companies fee is $ 5.0\n"
     ]
    }
   ],
   "source": [
    "print(\"Please enter your three costs.\")\n",
    "n1=float(input())\n",
    "n2=float(input())\n",
    "n3=float(input())\n",
    "total=n1+n2+n3\n",
    "fee=total/10\n",
    "fees=round(fee,0)\n",
    "print(\"The total cost is $\",total)\n",
    "print(\"The auction companies fee is $\",fees)"
   ]
  },
  {
   "cell_type": "markdown",
   "metadata": {},
   "source": [
    "## Calculate the area of a circle"
   ]
  },
  {
   "cell_type": "code",
   "execution_count": 13,
   "metadata": {},
   "outputs": [
    {
     "name": "stdout",
     "output_type": "stream",
     "text": [
      "Please enter the following value in cm.\n",
      "Please enter the radius of the circle.\n",
      "16\n",
      "The area of the circle is: 803.84 square centimeters.\n"
     ]
    }
   ],
   "source": [
    "print(\"Please enter the following value in cm.\")\n",
    "print(\"Please enter the radius of the circle.\")\n",
    "r=float(input())\n",
    "area=3.14*r*r\n",
    "print(\"The area of the circle is:\",area,\"square centimeters.\")"
   ]
  },
  {
   "cell_type": "markdown",
   "metadata": {},
   "source": [
    "## Prize draw cheat"
   ]
  },
  {
   "cell_type": "code",
   "execution_count": 19,
   "metadata": {},
   "outputs": [
    {
     "name": "stdout",
     "output_type": "stream",
     "text": [
      "Enter the volume of the jar(cm3):\n",
      "2712.96\n",
      "Enter the volume of one sweet(cm3):\n",
      "2.12\n",
      "1279 sweets fit into the jar.\n"
     ]
    }
   ],
   "source": [
    "print(\"Enter the volume of the jar(cm3):\")\n",
    "jar=float(input())\n",
    "print(\"Enter the volume of one sweet(cm3):\")\n",
    "sweet=float(input())\n",
    "no=jar/sweet\n",
    "n1=int(no)\n",
    "print(n1,\"sweets fit into the jar.\")"
   ]
  },
  {
   "cell_type": "markdown",
   "metadata": {},
   "source": [
    "## Leftover paint"
   ]
  },
  {
   "cell_type": "code",
   "execution_count": 24,
   "metadata": {},
   "outputs": [
    {
     "name": "stdout",
     "output_type": "stream",
     "text": [
      "Enter the area in m2 to be painted.\n",
      "178\n",
      "Enter the area (m2) that a single pot covers.\n",
      "25\n",
      "You will need 8 pots of paint.\n",
      "You can paint 3.0 m2 with the leftover paint.\n"
     ]
    }
   ],
   "source": [
    "import math\n",
    "print(\"Enter the area in m2 to be painted.\")\n",
    "n1=float(input())\n",
    "print(\"Enter the area (m2) that a single pot covers.\")\n",
    "n2=float(input())\n",
    "pot=math.ceil(n1/n2)\n",
    "leftover=n1%n2\n",
    "print(\"You will need\",pot,\"pots of paint.\")\n",
    "print(\"You can paint\",leftover,\"m2 with the leftover paint.\")"
   ]
  },
  {
   "cell_type": "markdown",
   "metadata": {},
   "source": [
    "## Laying bricks"
   ]
  },
  {
   "cell_type": "code",
   "execution_count": 3,
   "metadata": {},
   "outputs": [
    {
     "name": "stdout",
     "output_type": "stream",
     "text": [
      "Enter the length of the brick in cm:\n",
      "20\n",
      "Enter the length of the wall in meters:\n",
      "9.89\n",
      "47 bricks build one row of wall.\n",
      "This is 2.0 cm short of the required wall length.\n"
     ]
    }
   ],
   "source": [
    "print(\"Enter the length of the brick in cm:\")\n",
    "brickk=float(input())\n",
    "print(\"Enter the length of the wall in meters:\")\n",
    "wal=float(input())\n",
    "wall=wal*100\n",
    "brick=brickk+1\n",
    "no=wall/brick\n",
    "n1=int(no)\n",
    "leftover=wall%brick\n",
    "print(n1,\"bricks build one row of wall.\")\n",
    "print(\"This is\",leftover,\"cm short of the required wall length.\")"
   ]
  },
  {
   "cell_type": "markdown",
   "metadata": {},
   "source": [
    "## Atomic weight of hydrocarbons"
   ]
  },
  {
   "cell_type": "code",
   "execution_count": 6,
   "metadata": {},
   "outputs": [
    {
     "name": "stdout",
     "output_type": "stream",
     "text": [
      "Enter the number of carbon atoms.\n",
      "3\n",
      "The atomic mass of C3H8 is 44\n"
     ]
    }
   ],
   "source": [
    "print(\"Enter the number of carbon atoms.\")\n",
    "Cr=int(input())\n",
    "Hd=(Cr*2)+2\n",
    "atomic=(Cr*12)+Hd\n",
    "print(\"The atomic mass of C\"+str(Cr)+\"H\"+str(Hd),\"is\",atomic)"
   ]
  },
  {
   "cell_type": "markdown",
   "metadata": {},
   "source": [
    "## Standard scratch"
   ]
  },
  {
   "cell_type": "code",
   "execution_count": 8,
   "metadata": {},
   "outputs": [
    {
     "name": "stdout",
     "output_type": "stream",
     "text": [
      "HOW MANY PR 3 HOLES ARE THERE?\n",
      "6\n",
      "HOW MANY PR 4 HOLES ARE THERE?\n",
      "10\n",
      "HOW MANY PR 5 HOLES ARE THERE?\n",
      "2\n",
      "What is the difficulty adjustment for the course is:\n",
      "-2\n",
      "The Standard Scratch score for thr course is: 66\n"
     ]
    }
   ],
   "source": [
    "print(\"HOW MANY PR 3 HOLES ARE THERE?\")\n",
    "s3=int(input())\n",
    "print(\"HOW MANY PR 4 HOLES ARE THERE?\")\n",
    "s4=int(input())\n",
    "print(\"HOW MANY PR 5 HOLES ARE THERE?\")\n",
    "s5=int(input())\n",
    "print(\"What is the difficulty adjustment for the course is:\")\n",
    "ad=input()\n",
    "n1=s3*3\n",
    "n2=s4*4\n",
    "n3=s5*5\n",
    "total=n1+n2+n3\n",
    "score=int(total)+int(ad)\n",
    "print(\"The Standard Scratch score for thr course is:\",score)"
   ]
  },
  {
   "cell_type": "markdown",
   "metadata": {},
   "source": [
    "## Cycling speed"
   ]
  },
  {
   "cell_type": "code",
   "execution_count": 12,
   "metadata": {},
   "outputs": [
    {
     "name": "stdout",
     "output_type": "stream",
     "text": [
      "What is the circumference of your wheel in millimeters?\n",
      "1250\n",
      "How many wheel revolutions have taken place in your journey?\n",
      "8920\n",
      "How many minutes did you cycle for?\n",
      "30\n",
      "You covered  11.15 km.\n",
      "at an average speed of 22.3 kmh.\n"
     ]
    }
   ],
   "source": [
    "print(\"What is the circumference of your wheel in millimeters?\")\n",
    "circum=float(input())\n",
    "circumkm=circum*(1/1000000)\n",
    "print(\"How many wheel revolutions have taken place in your journey?\")\n",
    "revol=int(input())\n",
    "print(\"How many minutes did you cycle for?\")\n",
    "mins=int(input())\n",
    "time=mins/60\n",
    "dist=circumkm*revol\n",
    "avgs=dist/time\n",
    "print(\"You covered \",dist,\"km.\")\n",
    "print(\"at an average speed of\",avgs,\"kmh.\")"
   ]
  },
  {
   "cell_type": "markdown",
   "metadata": {},
   "source": [
    "## Advice please"
   ]
  },
  {
   "cell_type": "code",
   "execution_count": 14,
   "metadata": {},
   "outputs": [
    {
     "name": "stdout",
     "output_type": "stream",
     "text": [
      "Would you like some advice?\n",
      "NoneY\n",
      "Always know where your towel is.\n"
     ]
    }
   ],
   "source": [
    "a=str(input(print(\"Would you like some advice?\")))\n",
    "if a==\"Y\":\n",
    "    print(\"Always know where your towel is.\")\n",
    "else:\n",
    "    print(\"Okay\")"
   ]
  },
  {
   "cell_type": "markdown",
   "metadata": {},
   "source": [
    "## Go winner"
   ]
  },
  {
   "cell_type": "code",
   "execution_count": 15,
   "metadata": {},
   "outputs": [
    {
     "name": "stdout",
     "output_type": "stream",
     "text": [
      "What is Black's score?\n",
      "88\n",
      "what is white's score?\n",
      "84\n",
      "After 6.5 is added the score is:\n",
      "Black- 88\n",
      "White- 90.5\n",
      "White is the winner.\n"
     ]
    }
   ],
   "source": [
    "print(\"What is Black's score?\")\n",
    "b=int(input())\n",
    "print(\"what is white's score?\")\n",
    "w=int(input())\n",
    "ww=w+6.5\n",
    "print(\"After 6.5 is added the score is:\")\n",
    "print(\"Black-\",b)\n",
    "print(\"White-\",ww)\n",
    "if b>ww:\n",
    "    print(\"Black is the winner.\")\n",
    "else:\n",
    "    print(\"White is the winner.\")"
   ]
  },
  {
   "cell_type": "markdown",
   "metadata": {},
   "source": [
    "## Charity collection"
   ]
  },
  {
   "cell_type": "code",
   "execution_count": 17,
   "metadata": {},
   "outputs": [
    {
     "name": "stdout",
     "output_type": "stream",
     "text": [
      "Please enter the first amount raised\n",
      "398\n",
      "Please enter the 2nd amount raised\n",
      "193\n",
      "Please enter the 3rd amount raised\n",
      "478\n",
      "a total of $ 1069.0 was raised.\n",
      "This will be doubled to $ 2138.0\n"
     ]
    }
   ],
   "source": [
    "print(\"Please enter the first amount raised\")\n",
    "n1=float(input())\n",
    "print(\"Please enter the 2nd amount raised\")\n",
    "n2=float(input())\n",
    "print(\"Please enter the 3rd amount raised\")\n",
    "n3=float(input())\n",
    "total=n1+n2+n3\n",
    "print(\"a total of $\",total,\"was raised.\")\n",
    "if total>=1000:\n",
    "    double=total*2\n",
    "    print(\"This will be doubled to $\",double)\n",
    "\n"
   ]
  },
  {
   "cell_type": "markdown",
   "metadata": {},
   "source": [
    "## Area of Rectangle"
   ]
  },
  {
   "cell_type": "code",
   "execution_count": 18,
   "metadata": {},
   "outputs": [
    {
     "name": "stdout",
     "output_type": "stream",
     "text": [
      "Rectangle 1\n",
      "Please enter the length of the rectangle.\n",
      "12\n",
      "Please enter the width of the rectangle.\n",
      "6\n",
      "Rectangle 2\n",
      "Please enter the length of the rectangle.\n",
      "7\n",
      "Please enter the width of the rectangle.\n",
      "9\n",
      "Rectngle 1 has the largest area\n"
     ]
    }
   ],
   "source": [
    "print(\"Rectangle 1\")\n",
    "print(\"Please enter the length of the rectangle.\")\n",
    "length1=int(input())\n",
    "print(\"Please enter the width of the rectangle.\")\n",
    "width1=int(input())\n",
    "area1=length1*width1\n",
    "print(\"Rectangle 2\")\n",
    "print(\"Please enter the length of the rectangle.\")\n",
    "length2=int(input())\n",
    "print(\"Please enter the width of the rectangle.\")\n",
    "width2=int(input())\n",
    "area2=length2*width2\n",
    "if area1>area2:\n",
    "    print(\"Rectngle 1 has the largest area\")\n",
    "else:\n",
    "    print(\"Rectngle 2 has the largest area\")"
   ]
  },
  {
   "cell_type": "markdown",
   "metadata": {},
   "source": [
    "## The most vowels"
   ]
  },
  {
   "cell_type": "code",
   "execution_count": 20,
   "metadata": {},
   "outputs": [
    {
     "name": "stdout",
     "output_type": "stream",
     "text": [
      "Enter sentence 1\n",
      "You cant handle the truth!\n",
      "Enter sentence 2\n",
      "houston, we have a problem.\n",
      "The percentage of vowels in sentence 1 is: 26.92\n",
      "The percentage of vowels in sentence 2 is: 33.33\n",
      "Sentance 1 has 7 vowels\n",
      "Sentance 2 has 9 vowels\n",
      "Sentence 2 has more vowels.\n"
     ]
    }
   ],
   "source": [
    "print(\"Enter sentence 1\")\n",
    "sent1=str(input())\n",
    "print(\"Enter sentence 2\")\n",
    "sent2=str(input())\n",
    "sentence=sent1.lower()\n",
    "vowels1=sentence.count(\"a\")+sentence.count(\"e\")+sentence.count(\"i\")+sentence.count(\"o\")+sentence.count(\"u\")\n",
    "sentence2=sent2.lower()\n",
    "vowels2=sentence2.count(\"a\")+sentence2.count(\"e\")+sentence2.count(\"i\")+sentence2.count(\"o\")+sentence2.count(\"u\")\n",
    "per1=(100/len(sent1))*vowels1\n",
    "perr1=round(per1,2)\n",
    "per2=(100/len(sent2))*vowels2\n",
    "perr2=round(per2,2)\n",
    "print(\"The percentage of vowels in sentence 1 is:\",perr1)\n",
    "print(\"The percentage of vowels in sentence 2 is:\",perr2)\n",
    "print(\"Sentance 1 has\",vowels1,\"vowels\")\n",
    "print(\"Sentance 2 has\",vowels2,\"vowels\")\n",
    "if vowels1>vowels2:\n",
    "    print(\"Sentence 1 has more vowels.\")\n",
    "else:\n",
    "    print(\"Sentence 2 has more vowels.\")"
   ]
  },
  {
   "cell_type": "markdown",
   "metadata": {},
   "source": [
    "## Advice please (part 2)"
   ]
  },
  {
   "cell_type": "code",
   "execution_count": 21,
   "metadata": {},
   "outputs": [
    {
     "name": "stdout",
     "output_type": "stream",
     "text": [
      "Would you like some advice?\n",
      "Nonef\n",
      "Sorry, you were asked to enter Y or N.\n"
     ]
    }
   ],
   "source": [
    "a=str(input(print(\"Would you like some advice?\")))\n",
    "if a==\"Y\":\n",
    "    print(\"Always know where your towel is.\")\n",
    "if a==\"N\":\n",
    "    print(\"Okay\")\n",
    "else:\n",
    "    print(\"Sorry, you were asked to enter Y or N.\")"
   ]
  },
  {
   "cell_type": "markdown",
   "metadata": {},
   "source": [
    "## Car tyre check"
   ]
  },
  {
   "cell_type": "code",
   "execution_count": 23,
   "metadata": {},
   "outputs": [
    {
     "name": "stdout",
     "output_type": "stream",
     "text": [
      "Please enter the test speed(mph)\n",
      "50\n",
      "Please enter the tested stopping distance(m).\n",
      "39.7\n",
      "your car failed the test.\n"
     ]
    }
   ],
   "source": [
    "import math\n",
    "print(\"Please enter the test speed(mph)\")\n",
    "sp=int(input())\n",
    "print(\"Please enter the tested stopping distance(m).\")\n",
    "dis=float(input())\n",
    "dist=math.ceil(dis)\n",
    "if sp==30:\n",
    "    if dist>14:\n",
    "        print(\"your car failed the test.\")\n",
    "    else:\n",
    "        print(\"your car passed the test.\")\n",
    "if sp==50:\n",
    "    if dist>38:\n",
    "        print(\"your car failed the test.\")\n",
    "    else:\n",
    "        print(\"your car passed the test.\")"
   ]
  },
  {
   "cell_type": "markdown",
   "metadata": {},
   "source": [
    "## Charity collection (part 2)"
   ]
  },
  {
   "cell_type": "code",
   "execution_count": 1,
   "metadata": {},
   "outputs": [
    {
     "name": "stdout",
     "output_type": "stream",
     "text": [
      "Please enter the first amount raised\n",
      "740\n",
      "Please enter the 2nd amount raised\n",
      "690\n",
      "Please enter the 3rd amount raised\n",
      "1024\n",
      "a total of $ 2454.0 was raised.\n",
      "With the company bonus, this is $ 4454.0\n"
     ]
    }
   ],
   "source": [
    "print(\"Please enter the first amount raised\")\n",
    "n1=float(input())\n",
    "print(\"Please enter the 2nd amount raised\")\n",
    "n2=float(input())\n",
    "print(\"Please enter the 3rd amount raised\")\n",
    "n3=float(input())\n",
    "total=n1+n2+n3\n",
    "print(\"a total of $\",total,\"was raised.\")\n",
    "if total<1000:\n",
    "    total=total+100\n",
    "if total>=1000 and total<=2000:\n",
    "    total=2*total\n",
    "if total>2000:\n",
    "    total=2*2000+(total-2000)\n",
    "print(\"With the company bonus, this is $\",total)  "
   ]
  },
  {
   "cell_type": "markdown",
   "metadata": {},
   "source": [
    "## Line cheat"
   ]
  },
  {
   "cell_type": "code",
   "execution_count": 2,
   "metadata": {},
   "outputs": [
    {
     "name": "stdout",
     "output_type": "stream",
     "text": [
      "Which sentence would you like copied?\n",
      "Dont behave like a muppet in class.\n",
      "Dont behave like a muppet in class.\n",
      "Dont behave like a muppet in class.\n",
      "Dont behave like a muppet in class.\n",
      "Dont behave like a muppet in class.\n",
      "Dont behave like a muppet in class.\n",
      "Dont behave like a muppet in class.\n",
      "Dont behave like a muppet in class.\n",
      "Dont behave like a muppet in class.\n",
      "Dont behave like a muppet in class.\n",
      "Dont behave like a muppet in class.\n",
      "Dont behave like a muppet in class.\n",
      "Dont behave like a muppet in class.\n",
      "Dont behave like a muppet in class.\n",
      "Dont behave like a muppet in class.\n",
      "Dont behave like a muppet in class.\n",
      "Dont behave like a muppet in class.\n",
      "Dont behave like a muppet in class.\n",
      "Dont behave like a muppet in class.\n",
      "Dont behave like a muppet in class.\n",
      "Dont behave like a muppet in class.\n"
     ]
    }
   ],
   "source": [
    "print(\"Which sentence would you like copied?\")\n",
    "sent=str(input())\n",
    "for counter in range(20):\n",
    "    print(sent)"
   ]
  },
  {
   "cell_type": "markdown",
   "metadata": {},
   "source": [
    "## Charity collection (part 3)"
   ]
  },
  {
   "cell_type": "code",
   "execution_count": 5,
   "metadata": {},
   "outputs": [
    {
     "name": "stdout",
     "output_type": "stream",
     "text": [
      "Please enter the first amount raised\n",
      "398\n",
      "Please enter the 2nd amount raised\n",
      "193\n",
      "Please enter the 3rd amount raised\n",
      "478\n",
      "A total of $ 1069.0 was raised.\n",
      "With the company bonus, the amount is:\n",
      "$4138.0!!!\n",
      "$4138.0!!!\n",
      "$4138.0!!!\n"
     ]
    }
   ],
   "source": [
    "print(\"Please enter the first amount raised\")\n",
    "n1=float(input())\n",
    "print(\"Please enter the 2nd amount raised\")\n",
    "n2=float(input())\n",
    "print(\"Please enter the 3rd amount raised\")\n",
    "n3=float(input())\n",
    "total=n1+n2+n3\n",
    "print(\"A total of $\",total,\"was raised.\")\n",
    "if total<1000:\n",
    "    total=total+100\n",
    "if total>=1000 and total<=2000:\n",
    "    total=2*total\n",
    "if total>2000:\n",
    "    total=2*2000+(total-2000)\n",
    "print(\"With the company bonus, the amount is:\")  \n",
    "for counter in range(3):\n",
    "    print(\"$\"+str(total)+\"!!!\")"
   ]
  },
  {
   "cell_type": "markdown",
   "metadata": {},
   "source": [
    "## Name switch"
   ]
  },
  {
   "cell_type": "code",
   "execution_count": 7,
   "metadata": {},
   "outputs": [
    {
     "name": "stdout",
     "output_type": "stream",
     "text": [
      "Please enter first name:\n",
      "Matt\n",
      "Please enter 2nd name:\n",
      "Reid\n",
      "M R MATT reid MattReid\n",
      "MattReid REID matt r m\n",
      "M R MATT reid MattReid\n",
      "MattReid REID matt r m\n",
      "M R MATT reid MattReid\n",
      "MattReid REID matt r m\n"
     ]
    }
   ],
   "source": [
    "print(\"Please enter first name:\")\n",
    "n1=str(input())\n",
    "print(\"Please enter 2nd name:\")\n",
    "n2=str(input())\n",
    "n11=n1.lower()\n",
    "n22=n2.lower()\n",
    "for counter in range(3):\n",
    "    print(n1[0:1],n2[0:1],n1.upper(),n2.lower(),n1+n2)\n",
    "    print(n1+n2,n2.upper(),n1.lower(),n22[0:1],n11[0:1])"
   ]
  },
  {
   "cell_type": "markdown",
   "metadata": {},
   "source": [
    "## Cricket over"
   ]
  },
  {
   "cell_type": "code",
   "execution_count": 11,
   "metadata": {},
   "outputs": [
    {
     "name": "stdout",
     "output_type": "stream",
     "text": [
      "Please enter the score for each ball.\n",
      "0\n",
      "2\n",
      "0\n",
      "0\n",
      "4\n",
      "6\n",
      "This over's score was:  12\n"
     ]
    }
   ],
   "source": [
    "print(\"Please enter the score for each ball.\")\n",
    "score=0\n",
    "for i in range(6):\n",
    "    scores=int(input())\n",
    "    score=score+scores\n",
    "print(\"This over's score was: \",score)"
   ]
  },
  {
   "cell_type": "markdown",
   "metadata": {},
   "source": [
    "## Average temperature"
   ]
  },
  {
   "cell_type": "code",
   "execution_count": 2,
   "metadata": {},
   "outputs": [
    {
     "name": "stdout",
     "output_type": "stream",
     "text": [
      "Please enter the seven temperature.\n",
      "12\n",
      "14\n",
      "7\n",
      "6\n",
      "7\n",
      "11\n",
      "11\n",
      "this week's average temperature was:\n",
      "9.71 degree centigrade\n"
     ]
    }
   ],
   "source": [
    "print(\"Please enter the seven temperature.\")\n",
    "temp=0\n",
    "for i in range(7):\n",
    "    temp1=int(input())\n",
    "    temp=temp+temp1\n",
    "avg=temp/7\n",
    "print(\"this week's average temperature was:\")\n",
    "\n",
    "print(round(avg,2) ,\"degree centigrade\")"
   ]
  },
  {
   "cell_type": "markdown",
   "metadata": {},
   "source": [
    "## 33 Line cheat (part 2)"
   ]
  },
  {
   "cell_type": "code",
   "execution_count": 3,
   "metadata": {},
   "outputs": [
    {
     "name": "stdout",
     "output_type": "stream",
     "text": [
      "Which sentence would you like copied?\n",
      "Mr Reid is the best teacher.\n",
      "how many times would you like this to be copied\n",
      "999\n",
      "Mr Reid is the best teacher.\n",
      "Mr Reid is the best teacher.\n",
      "Mr Reid is the best teacher.\n",
      "Mr Reid is the best teacher.\n",
      "Mr Reid is the best teacher.\n",
      "Mr Reid is the best teacher.\n",
      "Mr Reid is the best teacher.\n",
      "Mr Reid is the best teacher.\n",
      "Mr Reid is the best teacher.\n",
      "Mr Reid is the best teacher.\n",
      "Mr Reid is the best teacher.\n",
      "Mr Reid is the best teacher.\n",
      "Mr Reid is the best teacher.\n",
      "Mr Reid is the best teacher.\n",
      "Mr Reid is the best teacher.\n",
      "Mr Reid is the best teacher.\n",
      "Mr Reid is the best teacher.\n",
      "Mr Reid is the best teacher.\n",
      "Mr Reid is the best teacher.\n",
      "Mr Reid is the best teacher.\n",
      "Mr Reid is the best teacher.\n",
      "Mr Reid is the best teacher.\n",
      "Mr Reid is the best teacher.\n",
      "Mr Reid is the best teacher.\n",
      "Mr Reid is the best teacher.\n",
      "Mr Reid is the best teacher.\n",
      "Mr Reid is the best teacher.\n",
      "Mr Reid is the best teacher.\n",
      "Mr Reid is the best teacher.\n",
      "Mr Reid is the best teacher.\n",
      "Mr Reid is the best teacher.\n",
      "Mr Reid is the best teacher.\n",
      "Mr Reid is the best teacher.\n",
      "Mr Reid is the best teacher.\n",
      "Mr Reid is the best teacher.\n",
      "Mr Reid is the best teacher.\n",
      "Mr Reid is the best teacher.\n",
      "Mr Reid is the best teacher.\n",
      "Mr Reid is the best teacher.\n",
      "Mr Reid is the best teacher.\n",
      "Mr Reid is the best teacher.\n",
      "Mr Reid is the best teacher.\n",
      "Mr Reid is the best teacher.\n",
      "Mr Reid is the best teacher.\n",
      "Mr Reid is the best teacher.\n",
      "Mr Reid is the best teacher.\n",
      "Mr Reid is the best teacher.\n",
      "Mr Reid is the best teacher.\n",
      "Mr Reid is the best teacher.\n",
      "Mr Reid is the best teacher.\n",
      "Mr Reid is the best teacher.\n",
      "Mr Reid is the best teacher.\n",
      "Mr Reid is the best teacher.\n",
      "Mr Reid is the best teacher.\n",
      "Mr Reid is the best teacher.\n",
      "Mr Reid is the best teacher.\n",
      "Mr Reid is the best teacher.\n",
      "Mr Reid is the best teacher.\n",
      "Mr Reid is the best teacher.\n",
      "Mr Reid is the best teacher.\n",
      "Mr Reid is the best teacher.\n",
      "Mr Reid is the best teacher.\n",
      "Mr Reid is the best teacher.\n",
      "Mr Reid is the best teacher.\n",
      "Mr Reid is the best teacher.\n",
      "Mr Reid is the best teacher.\n",
      "Mr Reid is the best teacher.\n",
      "Mr Reid is the best teacher.\n",
      "Mr Reid is the best teacher.\n",
      "Mr Reid is the best teacher.\n",
      "Mr Reid is the best teacher.\n",
      "Mr Reid is the best teacher.\n",
      "Mr Reid is the best teacher.\n",
      "Mr Reid is the best teacher.\n",
      "Mr Reid is the best teacher.\n",
      "Mr Reid is the best teacher.\n",
      "Mr Reid is the best teacher.\n",
      "Mr Reid is the best teacher.\n",
      "Mr Reid is the best teacher.\n",
      "Mr Reid is the best teacher.\n",
      "Mr Reid is the best teacher.\n",
      "Mr Reid is the best teacher.\n",
      "Mr Reid is the best teacher.\n",
      "Mr Reid is the best teacher.\n",
      "Mr Reid is the best teacher.\n",
      "Mr Reid is the best teacher.\n",
      "Mr Reid is the best teacher.\n",
      "Mr Reid is the best teacher.\n",
      "Mr Reid is the best teacher.\n",
      "Mr Reid is the best teacher.\n",
      "Mr Reid is the best teacher.\n",
      "Mr Reid is the best teacher.\n",
      "Mr Reid is the best teacher.\n",
      "Mr Reid is the best teacher.\n",
      "Mr Reid is the best teacher.\n",
      "Mr Reid is the best teacher.\n",
      "Mr Reid is the best teacher.\n",
      "Mr Reid is the best teacher.\n",
      "Mr Reid is the best teacher.\n",
      "Mr Reid is the best teacher.\n",
      "Mr Reid is the best teacher.\n",
      "Mr Reid is the best teacher.\n",
      "Mr Reid is the best teacher.\n",
      "Mr Reid is the best teacher.\n",
      "Mr Reid is the best teacher.\n",
      "Mr Reid is the best teacher.\n",
      "Mr Reid is the best teacher.\n",
      "Mr Reid is the best teacher.\n",
      "Mr Reid is the best teacher.\n",
      "Mr Reid is the best teacher.\n",
      "Mr Reid is the best teacher.\n",
      "Mr Reid is the best teacher.\n",
      "Mr Reid is the best teacher.\n",
      "Mr Reid is the best teacher.\n",
      "Mr Reid is the best teacher.\n",
      "Mr Reid is the best teacher.\n",
      "Mr Reid is the best teacher.\n",
      "Mr Reid is the best teacher.\n",
      "Mr Reid is the best teacher.\n",
      "Mr Reid is the best teacher.\n",
      "Mr Reid is the best teacher.\n",
      "Mr Reid is the best teacher.\n",
      "Mr Reid is the best teacher.\n",
      "Mr Reid is the best teacher.\n",
      "Mr Reid is the best teacher.\n",
      "Mr Reid is the best teacher.\n",
      "Mr Reid is the best teacher.\n",
      "Mr Reid is the best teacher.\n",
      "Mr Reid is the best teacher.\n",
      "Mr Reid is the best teacher.\n",
      "Mr Reid is the best teacher.\n",
      "Mr Reid is the best teacher.\n",
      "Mr Reid is the best teacher.\n",
      "Mr Reid is the best teacher.\n",
      "Mr Reid is the best teacher.\n",
      "Mr Reid is the best teacher.\n",
      "Mr Reid is the best teacher.\n",
      "Mr Reid is the best teacher.\n",
      "Mr Reid is the best teacher.\n",
      "Mr Reid is the best teacher.\n",
      "Mr Reid is the best teacher.\n",
      "Mr Reid is the best teacher.\n",
      "Mr Reid is the best teacher.\n",
      "Mr Reid is the best teacher.\n",
      "Mr Reid is the best teacher.\n",
      "Mr Reid is the best teacher.\n",
      "Mr Reid is the best teacher.\n",
      "Mr Reid is the best teacher.\n",
      "Mr Reid is the best teacher.\n",
      "Mr Reid is the best teacher.\n",
      "Mr Reid is the best teacher.\n",
      "Mr Reid is the best teacher.\n",
      "Mr Reid is the best teacher.\n",
      "Mr Reid is the best teacher.\n",
      "Mr Reid is the best teacher.\n",
      "Mr Reid is the best teacher.\n",
      "Mr Reid is the best teacher.\n",
      "Mr Reid is the best teacher.\n",
      "Mr Reid is the best teacher.\n",
      "Mr Reid is the best teacher.\n",
      "Mr Reid is the best teacher.\n",
      "Mr Reid is the best teacher.\n",
      "Mr Reid is the best teacher.\n",
      "Mr Reid is the best teacher.\n",
      "Mr Reid is the best teacher.\n",
      "Mr Reid is the best teacher.\n",
      "Mr Reid is the best teacher.\n",
      "Mr Reid is the best teacher.\n",
      "Mr Reid is the best teacher.\n",
      "Mr Reid is the best teacher.\n",
      "Mr Reid is the best teacher.\n",
      "Mr Reid is the best teacher.\n",
      "Mr Reid is the best teacher.\n",
      "Mr Reid is the best teacher.\n",
      "Mr Reid is the best teacher.\n",
      "Mr Reid is the best teacher.\n",
      "Mr Reid is the best teacher.\n",
      "Mr Reid is the best teacher.\n",
      "Mr Reid is the best teacher.\n",
      "Mr Reid is the best teacher.\n",
      "Mr Reid is the best teacher.\n",
      "Mr Reid is the best teacher.\n",
      "Mr Reid is the best teacher.\n",
      "Mr Reid is the best teacher.\n",
      "Mr Reid is the best teacher.\n",
      "Mr Reid is the best teacher.\n",
      "Mr Reid is the best teacher.\n",
      "Mr Reid is the best teacher.\n",
      "Mr Reid is the best teacher.\n",
      "Mr Reid is the best teacher.\n",
      "Mr Reid is the best teacher.\n",
      "Mr Reid is the best teacher.\n",
      "Mr Reid is the best teacher.\n",
      "Mr Reid is the best teacher.\n",
      "Mr Reid is the best teacher.\n",
      "Mr Reid is the best teacher.\n",
      "Mr Reid is the best teacher.\n",
      "Mr Reid is the best teacher.\n",
      "Mr Reid is the best teacher.\n",
      "Mr Reid is the best teacher.\n",
      "Mr Reid is the best teacher.\n",
      "Mr Reid is the best teacher.\n",
      "Mr Reid is the best teacher.\n",
      "Mr Reid is the best teacher.\n",
      "Mr Reid is the best teacher.\n",
      "Mr Reid is the best teacher.\n",
      "Mr Reid is the best teacher.\n",
      "Mr Reid is the best teacher.\n",
      "Mr Reid is the best teacher.\n",
      "Mr Reid is the best teacher.\n",
      "Mr Reid is the best teacher.\n",
      "Mr Reid is the best teacher.\n",
      "Mr Reid is the best teacher.\n",
      "Mr Reid is the best teacher.\n",
      "Mr Reid is the best teacher.\n",
      "Mr Reid is the best teacher.\n",
      "Mr Reid is the best teacher.\n",
      "Mr Reid is the best teacher.\n",
      "Mr Reid is the best teacher.\n",
      "Mr Reid is the best teacher.\n",
      "Mr Reid is the best teacher.\n",
      "Mr Reid is the best teacher.\n",
      "Mr Reid is the best teacher.\n",
      "Mr Reid is the best teacher.\n",
      "Mr Reid is the best teacher.\n",
      "Mr Reid is the best teacher.\n",
      "Mr Reid is the best teacher.\n",
      "Mr Reid is the best teacher.\n",
      "Mr Reid is the best teacher.\n",
      "Mr Reid is the best teacher.\n",
      "Mr Reid is the best teacher.\n",
      "Mr Reid is the best teacher.\n",
      "Mr Reid is the best teacher.\n",
      "Mr Reid is the best teacher.\n",
      "Mr Reid is the best teacher.\n",
      "Mr Reid is the best teacher.\n",
      "Mr Reid is the best teacher.\n",
      "Mr Reid is the best teacher.\n",
      "Mr Reid is the best teacher.\n",
      "Mr Reid is the best teacher.\n",
      "Mr Reid is the best teacher.\n",
      "Mr Reid is the best teacher.\n",
      "Mr Reid is the best teacher.\n",
      "Mr Reid is the best teacher.\n",
      "Mr Reid is the best teacher.\n",
      "Mr Reid is the best teacher.\n",
      "Mr Reid is the best teacher.\n",
      "Mr Reid is the best teacher.\n",
      "Mr Reid is the best teacher.\n",
      "Mr Reid is the best teacher.\n",
      "Mr Reid is the best teacher.\n",
      "Mr Reid is the best teacher.\n",
      "Mr Reid is the best teacher.\n",
      "Mr Reid is the best teacher.\n",
      "Mr Reid is the best teacher.\n",
      "Mr Reid is the best teacher.\n",
      "Mr Reid is the best teacher.\n",
      "Mr Reid is the best teacher.\n",
      "Mr Reid is the best teacher.\n",
      "Mr Reid is the best teacher.\n",
      "Mr Reid is the best teacher.\n",
      "Mr Reid is the best teacher.\n",
      "Mr Reid is the best teacher.\n",
      "Mr Reid is the best teacher.\n",
      "Mr Reid is the best teacher.\n",
      "Mr Reid is the best teacher.\n",
      "Mr Reid is the best teacher.\n",
      "Mr Reid is the best teacher.\n",
      "Mr Reid is the best teacher.\n",
      "Mr Reid is the best teacher.\n",
      "Mr Reid is the best teacher.\n",
      "Mr Reid is the best teacher.\n",
      "Mr Reid is the best teacher.\n",
      "Mr Reid is the best teacher.\n",
      "Mr Reid is the best teacher.\n",
      "Mr Reid is the best teacher.\n",
      "Mr Reid is the best teacher.\n",
      "Mr Reid is the best teacher.\n",
      "Mr Reid is the best teacher.\n",
      "Mr Reid is the best teacher.\n",
      "Mr Reid is the best teacher.\n",
      "Mr Reid is the best teacher.\n",
      "Mr Reid is the best teacher.\n",
      "Mr Reid is the best teacher.\n",
      "Mr Reid is the best teacher.\n",
      "Mr Reid is the best teacher.\n",
      "Mr Reid is the best teacher.\n",
      "Mr Reid is the best teacher.\n",
      "Mr Reid is the best teacher.\n",
      "Mr Reid is the best teacher.\n",
      "Mr Reid is the best teacher.\n",
      "Mr Reid is the best teacher.\n",
      "Mr Reid is the best teacher.\n",
      "Mr Reid is the best teacher.\n",
      "Mr Reid is the best teacher.\n",
      "Mr Reid is the best teacher.\n",
      "Mr Reid is the best teacher.\n",
      "Mr Reid is the best teacher.\n",
      "Mr Reid is the best teacher.\n",
      "Mr Reid is the best teacher.\n",
      "Mr Reid is the best teacher.\n",
      "Mr Reid is the best teacher.\n",
      "Mr Reid is the best teacher.\n",
      "Mr Reid is the best teacher.\n",
      "Mr Reid is the best teacher.\n",
      "Mr Reid is the best teacher.\n",
      "Mr Reid is the best teacher.\n",
      "Mr Reid is the best teacher.\n",
      "Mr Reid is the best teacher.\n",
      "Mr Reid is the best teacher.\n",
      "Mr Reid is the best teacher.\n",
      "Mr Reid is the best teacher.\n",
      "Mr Reid is the best teacher.\n",
      "Mr Reid is the best teacher.\n",
      "Mr Reid is the best teacher.\n",
      "Mr Reid is the best teacher.\n",
      "Mr Reid is the best teacher.\n",
      "Mr Reid is the best teacher.\n",
      "Mr Reid is the best teacher.\n",
      "Mr Reid is the best teacher.\n",
      "Mr Reid is the best teacher.\n",
      "Mr Reid is the best teacher.\n",
      "Mr Reid is the best teacher.\n",
      "Mr Reid is the best teacher.\n",
      "Mr Reid is the best teacher.\n",
      "Mr Reid is the best teacher.\n",
      "Mr Reid is the best teacher.\n",
      "Mr Reid is the best teacher.\n",
      "Mr Reid is the best teacher.\n",
      "Mr Reid is the best teacher.\n",
      "Mr Reid is the best teacher.\n",
      "Mr Reid is the best teacher.\n",
      "Mr Reid is the best teacher.\n",
      "Mr Reid is the best teacher.\n",
      "Mr Reid is the best teacher.\n",
      "Mr Reid is the best teacher.\n",
      "Mr Reid is the best teacher.\n",
      "Mr Reid is the best teacher.\n",
      "Mr Reid is the best teacher.\n",
      "Mr Reid is the best teacher.\n",
      "Mr Reid is the best teacher.\n",
      "Mr Reid is the best teacher.\n",
      "Mr Reid is the best teacher.\n",
      "Mr Reid is the best teacher.\n",
      "Mr Reid is the best teacher.\n",
      "Mr Reid is the best teacher.\n",
      "Mr Reid is the best teacher.\n",
      "Mr Reid is the best teacher.\n",
      "Mr Reid is the best teacher.\n",
      "Mr Reid is the best teacher.\n",
      "Mr Reid is the best teacher.\n",
      "Mr Reid is the best teacher.\n",
      "Mr Reid is the best teacher.\n",
      "Mr Reid is the best teacher.\n",
      "Mr Reid is the best teacher.\n",
      "Mr Reid is the best teacher.\n",
      "Mr Reid is the best teacher.\n",
      "Mr Reid is the best teacher.\n",
      "Mr Reid is the best teacher.\n",
      "Mr Reid is the best teacher.\n",
      "Mr Reid is the best teacher.\n",
      "Mr Reid is the best teacher.\n",
      "Mr Reid is the best teacher.\n",
      "Mr Reid is the best teacher.\n",
      "Mr Reid is the best teacher.\n",
      "Mr Reid is the best teacher.\n",
      "Mr Reid is the best teacher.\n",
      "Mr Reid is the best teacher.\n",
      "Mr Reid is the best teacher.\n",
      "Mr Reid is the best teacher.\n",
      "Mr Reid is the best teacher.\n",
      "Mr Reid is the best teacher.\n",
      "Mr Reid is the best teacher.\n",
      "Mr Reid is the best teacher.\n",
      "Mr Reid is the best teacher.\n",
      "Mr Reid is the best teacher.\n",
      "Mr Reid is the best teacher.\n",
      "Mr Reid is the best teacher.\n",
      "Mr Reid is the best teacher.\n",
      "Mr Reid is the best teacher.\n",
      "Mr Reid is the best teacher.\n",
      "Mr Reid is the best teacher.\n",
      "Mr Reid is the best teacher.\n",
      "Mr Reid is the best teacher.\n",
      "Mr Reid is the best teacher.\n",
      "Mr Reid is the best teacher.\n",
      "Mr Reid is the best teacher.\n",
      "Mr Reid is the best teacher.\n",
      "Mr Reid is the best teacher.\n",
      "Mr Reid is the best teacher.\n",
      "Mr Reid is the best teacher.\n",
      "Mr Reid is the best teacher.\n",
      "Mr Reid is the best teacher.\n",
      "Mr Reid is the best teacher.\n",
      "Mr Reid is the best teacher.\n",
      "Mr Reid is the best teacher.\n",
      "Mr Reid is the best teacher.\n",
      "Mr Reid is the best teacher.\n",
      "Mr Reid is the best teacher.\n",
      "Mr Reid is the best teacher.\n",
      "Mr Reid is the best teacher.\n",
      "Mr Reid is the best teacher.\n",
      "Mr Reid is the best teacher.\n",
      "Mr Reid is the best teacher.\n",
      "Mr Reid is the best teacher.\n",
      "Mr Reid is the best teacher.\n",
      "Mr Reid is the best teacher.\n",
      "Mr Reid is the best teacher.\n",
      "Mr Reid is the best teacher.\n",
      "Mr Reid is the best teacher.\n",
      "Mr Reid is the best teacher.\n",
      "Mr Reid is the best teacher.\n",
      "Mr Reid is the best teacher.\n",
      "Mr Reid is the best teacher.\n",
      "Mr Reid is the best teacher.\n",
      "Mr Reid is the best teacher.\n",
      "Mr Reid is the best teacher.\n",
      "Mr Reid is the best teacher.\n",
      "Mr Reid is the best teacher.\n",
      "Mr Reid is the best teacher.\n",
      "Mr Reid is the best teacher.\n",
      "Mr Reid is the best teacher.\n",
      "Mr Reid is the best teacher.\n",
      "Mr Reid is the best teacher.\n",
      "Mr Reid is the best teacher.\n",
      "Mr Reid is the best teacher.\n",
      "Mr Reid is the best teacher.\n",
      "Mr Reid is the best teacher.\n",
      "Mr Reid is the best teacher.\n",
      "Mr Reid is the best teacher.\n",
      "Mr Reid is the best teacher.\n",
      "Mr Reid is the best teacher.\n",
      "Mr Reid is the best teacher.\n",
      "Mr Reid is the best teacher.\n",
      "Mr Reid is the best teacher.\n",
      "Mr Reid is the best teacher.\n",
      "Mr Reid is the best teacher.\n",
      "Mr Reid is the best teacher.\n",
      "Mr Reid is the best teacher.\n",
      "Mr Reid is the best teacher.\n",
      "Mr Reid is the best teacher.\n",
      "Mr Reid is the best teacher.\n",
      "Mr Reid is the best teacher.\n",
      "Mr Reid is the best teacher.\n",
      "Mr Reid is the best teacher.\n",
      "Mr Reid is the best teacher.\n",
      "Mr Reid is the best teacher.\n",
      "Mr Reid is the best teacher.\n",
      "Mr Reid is the best teacher.\n",
      "Mr Reid is the best teacher.\n",
      "Mr Reid is the best teacher.\n",
      "Mr Reid is the best teacher.\n",
      "Mr Reid is the best teacher.\n",
      "Mr Reid is the best teacher.\n",
      "Mr Reid is the best teacher.\n",
      "Mr Reid is the best teacher.\n",
      "Mr Reid is the best teacher.\n",
      "Mr Reid is the best teacher.\n",
      "Mr Reid is the best teacher.\n",
      "Mr Reid is the best teacher.\n",
      "Mr Reid is the best teacher.\n",
      "Mr Reid is the best teacher.\n",
      "Mr Reid is the best teacher.\n",
      "Mr Reid is the best teacher.\n",
      "Mr Reid is the best teacher.\n",
      "Mr Reid is the best teacher.\n",
      "Mr Reid is the best teacher.\n",
      "Mr Reid is the best teacher.\n",
      "Mr Reid is the best teacher.\n",
      "Mr Reid is the best teacher.\n",
      "Mr Reid is the best teacher.\n",
      "Mr Reid is the best teacher.\n",
      "Mr Reid is the best teacher.\n",
      "Mr Reid is the best teacher.\n",
      "Mr Reid is the best teacher.\n",
      "Mr Reid is the best teacher.\n",
      "Mr Reid is the best teacher.\n",
      "Mr Reid is the best teacher.\n",
      "Mr Reid is the best teacher.\n",
      "Mr Reid is the best teacher.\n",
      "Mr Reid is the best teacher.\n",
      "Mr Reid is the best teacher.\n",
      "Mr Reid is the best teacher.\n",
      "Mr Reid is the best teacher.\n",
      "Mr Reid is the best teacher.\n",
      "Mr Reid is the best teacher.\n",
      "Mr Reid is the best teacher.\n",
      "Mr Reid is the best teacher.\n",
      "Mr Reid is the best teacher.\n",
      "Mr Reid is the best teacher.\n",
      "Mr Reid is the best teacher.\n",
      "Mr Reid is the best teacher.\n",
      "Mr Reid is the best teacher.\n",
      "Mr Reid is the best teacher.\n",
      "Mr Reid is the best teacher.\n",
      "Mr Reid is the best teacher.\n",
      "Mr Reid is the best teacher.\n",
      "Mr Reid is the best teacher.\n",
      "Mr Reid is the best teacher.\n",
      "Mr Reid is the best teacher.\n",
      "Mr Reid is the best teacher.\n",
      "Mr Reid is the best teacher.\n",
      "Mr Reid is the best teacher.\n",
      "Mr Reid is the best teacher.\n",
      "Mr Reid is the best teacher.\n",
      "Mr Reid is the best teacher.\n",
      "Mr Reid is the best teacher.\n",
      "Mr Reid is the best teacher.\n",
      "Mr Reid is the best teacher.\n",
      "Mr Reid is the best teacher.\n",
      "Mr Reid is the best teacher.\n",
      "Mr Reid is the best teacher.\n",
      "Mr Reid is the best teacher.\n",
      "Mr Reid is the best teacher.\n",
      "Mr Reid is the best teacher.\n",
      "Mr Reid is the best teacher.\n",
      "Mr Reid is the best teacher.\n",
      "Mr Reid is the best teacher.\n",
      "Mr Reid is the best teacher.\n",
      "Mr Reid is the best teacher.\n",
      "Mr Reid is the best teacher.\n",
      "Mr Reid is the best teacher.\n",
      "Mr Reid is the best teacher.\n",
      "Mr Reid is the best teacher.\n",
      "Mr Reid is the best teacher.\n",
      "Mr Reid is the best teacher.\n",
      "Mr Reid is the best teacher.\n",
      "Mr Reid is the best teacher.\n",
      "Mr Reid is the best teacher.\n",
      "Mr Reid is the best teacher.\n",
      "Mr Reid is the best teacher.\n",
      "Mr Reid is the best teacher.\n",
      "Mr Reid is the best teacher.\n",
      "Mr Reid is the best teacher.\n",
      "Mr Reid is the best teacher.\n",
      "Mr Reid is the best teacher.\n",
      "Mr Reid is the best teacher.\n",
      "Mr Reid is the best teacher.\n",
      "Mr Reid is the best teacher.\n",
      "Mr Reid is the best teacher.\n",
      "Mr Reid is the best teacher.\n",
      "Mr Reid is the best teacher.\n",
      "Mr Reid is the best teacher.\n",
      "Mr Reid is the best teacher.\n",
      "Mr Reid is the best teacher.\n",
      "Mr Reid is the best teacher.\n",
      "Mr Reid is the best teacher.\n",
      "Mr Reid is the best teacher.\n",
      "Mr Reid is the best teacher.\n",
      "Mr Reid is the best teacher.\n",
      "Mr Reid is the best teacher.\n",
      "Mr Reid is the best teacher.\n",
      "Mr Reid is the best teacher.\n",
      "Mr Reid is the best teacher.\n",
      "Mr Reid is the best teacher.\n",
      "Mr Reid is the best teacher.\n",
      "Mr Reid is the best teacher.\n",
      "Mr Reid is the best teacher.\n",
      "Mr Reid is the best teacher.\n",
      "Mr Reid is the best teacher.\n",
      "Mr Reid is the best teacher.\n",
      "Mr Reid is the best teacher.\n",
      "Mr Reid is the best teacher.\n",
      "Mr Reid is the best teacher.\n",
      "Mr Reid is the best teacher.\n",
      "Mr Reid is the best teacher.\n",
      "Mr Reid is the best teacher.\n",
      "Mr Reid is the best teacher.\n",
      "Mr Reid is the best teacher.\n",
      "Mr Reid is the best teacher.\n",
      "Mr Reid is the best teacher.\n",
      "Mr Reid is the best teacher.\n",
      "Mr Reid is the best teacher.\n",
      "Mr Reid is the best teacher.\n",
      "Mr Reid is the best teacher.\n",
      "Mr Reid is the best teacher.\n",
      "Mr Reid is the best teacher.\n",
      "Mr Reid is the best teacher.\n",
      "Mr Reid is the best teacher.\n",
      "Mr Reid is the best teacher.\n",
      "Mr Reid is the best teacher.\n",
      "Mr Reid is the best teacher.\n",
      "Mr Reid is the best teacher.\n",
      "Mr Reid is the best teacher.\n",
      "Mr Reid is the best teacher.\n",
      "Mr Reid is the best teacher.\n",
      "Mr Reid is the best teacher.\n",
      "Mr Reid is the best teacher.\n",
      "Mr Reid is the best teacher.\n",
      "Mr Reid is the best teacher.\n",
      "Mr Reid is the best teacher.\n",
      "Mr Reid is the best teacher.\n",
      "Mr Reid is the best teacher.\n",
      "Mr Reid is the best teacher.\n",
      "Mr Reid is the best teacher.\n",
      "Mr Reid is the best teacher.\n",
      "Mr Reid is the best teacher.\n",
      "Mr Reid is the best teacher.\n",
      "Mr Reid is the best teacher.\n",
      "Mr Reid is the best teacher.\n",
      "Mr Reid is the best teacher.\n",
      "Mr Reid is the best teacher.\n",
      "Mr Reid is the best teacher.\n",
      "Mr Reid is the best teacher.\n",
      "Mr Reid is the best teacher.\n",
      "Mr Reid is the best teacher.\n",
      "Mr Reid is the best teacher.\n",
      "Mr Reid is the best teacher.\n",
      "Mr Reid is the best teacher.\n",
      "Mr Reid is the best teacher.\n",
      "Mr Reid is the best teacher.\n",
      "Mr Reid is the best teacher.\n",
      "Mr Reid is the best teacher.\n",
      "Mr Reid is the best teacher.\n",
      "Mr Reid is the best teacher.\n",
      "Mr Reid is the best teacher.\n",
      "Mr Reid is the best teacher.\n",
      "Mr Reid is the best teacher.\n",
      "Mr Reid is the best teacher.\n",
      "Mr Reid is the best teacher.\n",
      "Mr Reid is the best teacher.\n",
      "Mr Reid is the best teacher.\n",
      "Mr Reid is the best teacher.\n",
      "Mr Reid is the best teacher.\n",
      "Mr Reid is the best teacher.\n",
      "Mr Reid is the best teacher.\n",
      "Mr Reid is the best teacher.\n",
      "Mr Reid is the best teacher.\n",
      "Mr Reid is the best teacher.\n",
      "Mr Reid is the best teacher.\n",
      "Mr Reid is the best teacher.\n",
      "Mr Reid is the best teacher.\n",
      "Mr Reid is the best teacher.\n",
      "Mr Reid is the best teacher.\n",
      "Mr Reid is the best teacher.\n",
      "Mr Reid is the best teacher.\n",
      "Mr Reid is the best teacher.\n",
      "Mr Reid is the best teacher.\n",
      "Mr Reid is the best teacher.\n",
      "Mr Reid is the best teacher.\n",
      "Mr Reid is the best teacher.\n",
      "Mr Reid is the best teacher.\n",
      "Mr Reid is the best teacher.\n",
      "Mr Reid is the best teacher.\n",
      "Mr Reid is the best teacher.\n",
      "Mr Reid is the best teacher.\n",
      "Mr Reid is the best teacher.\n",
      "Mr Reid is the best teacher.\n",
      "Mr Reid is the best teacher.\n",
      "Mr Reid is the best teacher.\n",
      "Mr Reid is the best teacher.\n",
      "Mr Reid is the best teacher.\n",
      "Mr Reid is the best teacher.\n",
      "Mr Reid is the best teacher.\n",
      "Mr Reid is the best teacher.\n",
      "Mr Reid is the best teacher.\n",
      "Mr Reid is the best teacher.\n",
      "Mr Reid is the best teacher.\n",
      "Mr Reid is the best teacher.\n",
      "Mr Reid is the best teacher.\n",
      "Mr Reid is the best teacher.\n",
      "Mr Reid is the best teacher.\n",
      "Mr Reid is the best teacher.\n",
      "Mr Reid is the best teacher.\n",
      "Mr Reid is the best teacher.\n",
      "Mr Reid is the best teacher.\n",
      "Mr Reid is the best teacher.\n",
      "Mr Reid is the best teacher.\n",
      "Mr Reid is the best teacher.\n",
      "Mr Reid is the best teacher.\n",
      "Mr Reid is the best teacher.\n",
      "Mr Reid is the best teacher.\n",
      "Mr Reid is the best teacher.\n",
      "Mr Reid is the best teacher.\n",
      "Mr Reid is the best teacher.\n",
      "Mr Reid is the best teacher.\n",
      "Mr Reid is the best teacher.\n",
      "Mr Reid is the best teacher.\n",
      "Mr Reid is the best teacher.\n",
      "Mr Reid is the best teacher.\n",
      "Mr Reid is the best teacher.\n",
      "Mr Reid is the best teacher.\n",
      "Mr Reid is the best teacher.\n",
      "Mr Reid is the best teacher.\n",
      "Mr Reid is the best teacher.\n",
      "Mr Reid is the best teacher.\n",
      "Mr Reid is the best teacher.\n",
      "Mr Reid is the best teacher.\n",
      "Mr Reid is the best teacher.\n",
      "Mr Reid is the best teacher.\n",
      "Mr Reid is the best teacher.\n",
      "Mr Reid is the best teacher.\n",
      "Mr Reid is the best teacher.\n",
      "Mr Reid is the best teacher.\n",
      "Mr Reid is the best teacher.\n",
      "Mr Reid is the best teacher.\n",
      "Mr Reid is the best teacher.\n",
      "Mr Reid is the best teacher.\n",
      "Mr Reid is the best teacher.\n",
      "Mr Reid is the best teacher.\n",
      "Mr Reid is the best teacher.\n",
      "Mr Reid is the best teacher.\n",
      "Mr Reid is the best teacher.\n",
      "Mr Reid is the best teacher.\n",
      "Mr Reid is the best teacher.\n",
      "Mr Reid is the best teacher.\n",
      "Mr Reid is the best teacher.\n",
      "Mr Reid is the best teacher.\n",
      "Mr Reid is the best teacher.\n",
      "Mr Reid is the best teacher.\n",
      "Mr Reid is the best teacher.\n",
      "Mr Reid is the best teacher.\n",
      "Mr Reid is the best teacher.\n",
      "Mr Reid is the best teacher.\n",
      "Mr Reid is the best teacher.\n",
      "Mr Reid is the best teacher.\n",
      "Mr Reid is the best teacher.\n",
      "Mr Reid is the best teacher.\n",
      "Mr Reid is the best teacher.\n",
      "Mr Reid is the best teacher.\n",
      "Mr Reid is the best teacher.\n",
      "Mr Reid is the best teacher.\n",
      "Mr Reid is the best teacher.\n",
      "Mr Reid is the best teacher.\n",
      "Mr Reid is the best teacher.\n",
      "Mr Reid is the best teacher.\n",
      "Mr Reid is the best teacher.\n",
      "Mr Reid is the best teacher.\n",
      "Mr Reid is the best teacher.\n",
      "Mr Reid is the best teacher.\n",
      "Mr Reid is the best teacher.\n",
      "Mr Reid is the best teacher.\n",
      "Mr Reid is the best teacher.\n",
      "Mr Reid is the best teacher.\n",
      "Mr Reid is the best teacher.\n",
      "Mr Reid is the best teacher.\n",
      "Mr Reid is the best teacher.\n",
      "Mr Reid is the best teacher.\n",
      "Mr Reid is the best teacher.\n",
      "Mr Reid is the best teacher.\n",
      "Mr Reid is the best teacher.\n",
      "Mr Reid is the best teacher.\n",
      "Mr Reid is the best teacher.\n",
      "Mr Reid is the best teacher.\n",
      "Mr Reid is the best teacher.\n",
      "Mr Reid is the best teacher.\n",
      "Mr Reid is the best teacher.\n",
      "Mr Reid is the best teacher.\n",
      "Mr Reid is the best teacher.\n",
      "Mr Reid is the best teacher.\n",
      "Mr Reid is the best teacher.\n",
      "Mr Reid is the best teacher.\n",
      "Mr Reid is the best teacher.\n",
      "Mr Reid is the best teacher.\n",
      "Mr Reid is the best teacher.\n",
      "Mr Reid is the best teacher.\n",
      "Mr Reid is the best teacher.\n",
      "Mr Reid is the best teacher.\n",
      "Mr Reid is the best teacher.\n",
      "Mr Reid is the best teacher.\n",
      "Mr Reid is the best teacher.\n",
      "Mr Reid is the best teacher.\n",
      "Mr Reid is the best teacher.\n",
      "Mr Reid is the best teacher.\n",
      "Mr Reid is the best teacher.\n",
      "Mr Reid is the best teacher.\n",
      "Mr Reid is the best teacher.\n",
      "Mr Reid is the best teacher.\n",
      "Mr Reid is the best teacher.\n",
      "Mr Reid is the best teacher.\n",
      "Mr Reid is the best teacher.\n",
      "Mr Reid is the best teacher.\n",
      "Mr Reid is the best teacher.\n",
      "Mr Reid is the best teacher.\n",
      "Mr Reid is the best teacher.\n",
      "Mr Reid is the best teacher.\n",
      "Mr Reid is the best teacher.\n",
      "Mr Reid is the best teacher.\n",
      "Mr Reid is the best teacher.\n",
      "Mr Reid is the best teacher.\n",
      "Mr Reid is the best teacher.\n",
      "Mr Reid is the best teacher.\n",
      "Mr Reid is the best teacher.\n",
      "Mr Reid is the best teacher.\n",
      "Mr Reid is the best teacher.\n",
      "Mr Reid is the best teacher.\n",
      "Mr Reid is the best teacher.\n",
      "Mr Reid is the best teacher.\n",
      "Mr Reid is the best teacher.\n",
      "Mr Reid is the best teacher.\n",
      "Mr Reid is the best teacher.\n",
      "Mr Reid is the best teacher.\n",
      "Mr Reid is the best teacher.\n",
      "Mr Reid is the best teacher.\n",
      "Mr Reid is the best teacher.\n",
      "Mr Reid is the best teacher.\n",
      "Mr Reid is the best teacher.\n",
      "Mr Reid is the best teacher.\n",
      "Mr Reid is the best teacher.\n",
      "Mr Reid is the best teacher.\n",
      "Mr Reid is the best teacher.\n",
      "Mr Reid is the best teacher.\n",
      "Mr Reid is the best teacher.\n",
      "Mr Reid is the best teacher.\n",
      "Mr Reid is the best teacher.\n",
      "Mr Reid is the best teacher.\n",
      "Mr Reid is the best teacher.\n",
      "Mr Reid is the best teacher.\n",
      "Mr Reid is the best teacher.\n",
      "Mr Reid is the best teacher.\n",
      "Mr Reid is the best teacher.\n",
      "Mr Reid is the best teacher.\n",
      "Mr Reid is the best teacher.\n",
      "Mr Reid is the best teacher.\n",
      "Mr Reid is the best teacher.\n",
      "Mr Reid is the best teacher.\n",
      "Mr Reid is the best teacher.\n",
      "Mr Reid is the best teacher.\n",
      "Mr Reid is the best teacher.\n",
      "Mr Reid is the best teacher.\n",
      "Mr Reid is the best teacher.\n",
      "Mr Reid is the best teacher.\n",
      "Mr Reid is the best teacher.\n",
      "Mr Reid is the best teacher.\n",
      "Mr Reid is the best teacher.\n",
      "Mr Reid is the best teacher.\n",
      "Mr Reid is the best teacher.\n",
      "Mr Reid is the best teacher.\n",
      "Mr Reid is the best teacher.\n",
      "Mr Reid is the best teacher.\n",
      "Mr Reid is the best teacher.\n",
      "Mr Reid is the best teacher.\n",
      "Mr Reid is the best teacher.\n",
      "Mr Reid is the best teacher.\n",
      "Mr Reid is the best teacher.\n",
      "Mr Reid is the best teacher.\n",
      "Mr Reid is the best teacher.\n",
      "Mr Reid is the best teacher.\n",
      "Mr Reid is the best teacher.\n",
      "Mr Reid is the best teacher.\n",
      "Mr Reid is the best teacher.\n",
      "Mr Reid is the best teacher.\n",
      "Mr Reid is the best teacher.\n",
      "Mr Reid is the best teacher.\n",
      "Mr Reid is the best teacher.\n",
      "Mr Reid is the best teacher.\n",
      "Mr Reid is the best teacher.\n",
      "Mr Reid is the best teacher.\n",
      "Mr Reid is the best teacher.\n",
      "Mr Reid is the best teacher.\n",
      "Mr Reid is the best teacher.\n",
      "Mr Reid is the best teacher.\n",
      "Mr Reid is the best teacher.\n",
      "Mr Reid is the best teacher.\n",
      "Mr Reid is the best teacher.\n",
      "Mr Reid is the best teacher.\n",
      "Mr Reid is the best teacher.\n",
      "Mr Reid is the best teacher.\n",
      "Mr Reid is the best teacher.\n",
      "Mr Reid is the best teacher.\n",
      "Mr Reid is the best teacher.\n",
      "Mr Reid is the best teacher.\n",
      "Mr Reid is the best teacher.\n",
      "Mr Reid is the best teacher.\n",
      "Mr Reid is the best teacher.\n",
      "Mr Reid is the best teacher.\n",
      "Mr Reid is the best teacher.\n",
      "Mr Reid is the best teacher.\n",
      "Mr Reid is the best teacher.\n",
      "Mr Reid is the best teacher.\n",
      "Mr Reid is the best teacher.\n",
      "Mr Reid is the best teacher.\n",
      "Mr Reid is the best teacher.\n",
      "Mr Reid is the best teacher.\n",
      "Mr Reid is the best teacher.\n",
      "Mr Reid is the best teacher.\n",
      "Mr Reid is the best teacher.\n",
      "Mr Reid is the best teacher.\n",
      "Mr Reid is the best teacher.\n",
      "Mr Reid is the best teacher.\n",
      "Mr Reid is the best teacher.\n",
      "Mr Reid is the best teacher.\n",
      "Mr Reid is the best teacher.\n",
      "Mr Reid is the best teacher.\n",
      "Mr Reid is the best teacher.\n",
      "Mr Reid is the best teacher.\n",
      "Mr Reid is the best teacher.\n",
      "Mr Reid is the best teacher.\n",
      "Mr Reid is the best teacher.\n",
      "Mr Reid is the best teacher.\n",
      "Mr Reid is the best teacher.\n",
      "Mr Reid is the best teacher.\n",
      "Mr Reid is the best teacher.\n",
      "Mr Reid is the best teacher.\n",
      "Mr Reid is the best teacher.\n",
      "Mr Reid is the best teacher.\n",
      "Mr Reid is the best teacher.\n",
      "Mr Reid is the best teacher.\n",
      "Mr Reid is the best teacher.\n",
      "Mr Reid is the best teacher.\n",
      "Mr Reid is the best teacher.\n",
      "Mr Reid is the best teacher.\n",
      "Mr Reid is the best teacher.\n",
      "Mr Reid is the best teacher.\n",
      "Mr Reid is the best teacher.\n",
      "Mr Reid is the best teacher.\n",
      "Mr Reid is the best teacher.\n",
      "Mr Reid is the best teacher.\n",
      "Mr Reid is the best teacher.\n",
      "Mr Reid is the best teacher.\n",
      "Mr Reid is the best teacher.\n",
      "Mr Reid is the best teacher.\n",
      "Mr Reid is the best teacher.\n",
      "Mr Reid is the best teacher.\n",
      "Mr Reid is the best teacher.\n",
      "Mr Reid is the best teacher.\n",
      "Mr Reid is the best teacher.\n",
      "Mr Reid is the best teacher.\n",
      "Mr Reid is the best teacher.\n",
      "Mr Reid is the best teacher.\n",
      "Mr Reid is the best teacher.\n",
      "Mr Reid is the best teacher.\n",
      "Mr Reid is the best teacher.\n",
      "Mr Reid is the best teacher.\n",
      "Mr Reid is the best teacher.\n",
      "Mr Reid is the best teacher.\n",
      "Mr Reid is the best teacher.\n",
      "Mr Reid is the best teacher.\n",
      "Mr Reid is the best teacher.\n",
      "Mr Reid is the best teacher.\n",
      "Mr Reid is the best teacher.\n",
      "Mr Reid is the best teacher.\n",
      "Mr Reid is the best teacher.\n",
      "Mr Reid is the best teacher.\n",
      "Mr Reid is the best teacher.\n",
      "Mr Reid is the best teacher.\n",
      "Mr Reid is the best teacher.\n",
      "Mr Reid is the best teacher.\n",
      "Mr Reid is the best teacher.\n",
      "Mr Reid is the best teacher.\n",
      "Mr Reid is the best teacher.\n",
      "Mr Reid is the best teacher.\n",
      "Mr Reid is the best teacher.\n",
      "Mr Reid is the best teacher.\n",
      "Mr Reid is the best teacher.\n",
      "Mr Reid is the best teacher.\n",
      "Mr Reid is the best teacher.\n",
      "Mr Reid is the best teacher.\n",
      "Mr Reid is the best teacher.\n",
      "Mr Reid is the best teacher.\n",
      "Mr Reid is the best teacher.\n",
      "Mr Reid is the best teacher.\n",
      "Mr Reid is the best teacher.\n",
      "Mr Reid is the best teacher.\n",
      "Mr Reid is the best teacher.\n",
      "Mr Reid is the best teacher.\n",
      "Mr Reid is the best teacher.\n",
      "Mr Reid is the best teacher.\n",
      "Mr Reid is the best teacher.\n",
      "Mr Reid is the best teacher.\n",
      "Mr Reid is the best teacher.\n",
      "Mr Reid is the best teacher.\n",
      "Mr Reid is the best teacher.\n",
      "Mr Reid is the best teacher.\n",
      "Mr Reid is the best teacher.\n",
      "Mr Reid is the best teacher.\n",
      "Mr Reid is the best teacher.\n",
      "Mr Reid is the best teacher.\n",
      "Mr Reid is the best teacher.\n",
      "Mr Reid is the best teacher.\n",
      "Mr Reid is the best teacher.\n",
      "Mr Reid is the best teacher.\n",
      "Mr Reid is the best teacher.\n",
      "Mr Reid is the best teacher.\n",
      "Mr Reid is the best teacher.\n",
      "Mr Reid is the best teacher.\n",
      "Mr Reid is the best teacher.\n",
      "Mr Reid is the best teacher.\n",
      "Mr Reid is the best teacher.\n",
      "Mr Reid is the best teacher.\n",
      "Mr Reid is the best teacher.\n",
      "Mr Reid is the best teacher.\n",
      "Mr Reid is the best teacher.\n",
      "Mr Reid is the best teacher.\n",
      "Mr Reid is the best teacher.\n",
      "Mr Reid is the best teacher.\n",
      "Mr Reid is the best teacher.\n",
      "Mr Reid is the best teacher.\n",
      "Mr Reid is the best teacher.\n",
      "Mr Reid is the best teacher.\n",
      "Mr Reid is the best teacher.\n",
      "Mr Reid is the best teacher.\n",
      "Mr Reid is the best teacher.\n",
      "Mr Reid is the best teacher.\n",
      "Mr Reid is the best teacher.\n",
      "Mr Reid is the best teacher.\n",
      "Mr Reid is the best teacher.\n",
      "Mr Reid is the best teacher.\n",
      "Mr Reid is the best teacher.\n"
     ]
    }
   ],
   "source": [
    "print(\"Which sentence would you like copied?\")\n",
    "sentence=input()\n",
    "print(\"how many times would you like this to be copied\")\n",
    "times=int(input())\n",
    "for i in range(times):\n",
    "    print(sentence)"
   ]
  },
  {
   "cell_type": "markdown",
   "metadata": {},
   "source": [
    "##  34 Charity collection (Part 4)"
   ]
  },
  {
   "cell_type": "code",
   "execution_count": 4,
   "metadata": {},
   "outputs": [
    {
     "name": "stdout",
     "output_type": "stream",
     "text": [
      "How many charity raisers were there\n",
      "6\n",
      "Enter the total amount raised by each\n",
      "238\n",
      "624\n",
      "546\n",
      "333\n",
      "651\n",
      "174\n",
      "A total of  2566 was raised.\n",
      "This will be increased to\n",
      "4566 !!!\n",
      "4566 !!!\n",
      "4566 !!!\n"
     ]
    }
   ],
   "source": [
    "print(\"How many charity raisers were there\")\n",
    "number=int(input())\n",
    "print(\"Enter the total amount raised by each\")\n",
    "T=0\n",
    "for i in range(number):\n",
    "    total=int(input())\n",
    "    T=T+total\n",
    "\n",
    "if T<1000:\n",
    "    T2=T+100\n",
    "elif T>=1000 and T<=2000:\n",
    "    T2=2*T\n",
    "elif T>2000:\n",
    "    T2=4000+(T-2000)\n",
    "print(\"A total of \",T,\"was raised.\")\n",
    "print(\"This will be increased to\")\n",
    "for i in range(3):\n",
    "    print(T2,\"!!!\")"
   ]
  },
  {
   "cell_type": "markdown",
   "metadata": {},
   "source": [
    "## 35 Press up Challenge"
   ]
  },
  {
   "cell_type": "code",
   "execution_count": 5,
   "metadata": {},
   "outputs": [
    {
     "name": "stdout",
     "output_type": "stream",
     "text": [
      "Please enter the number of students:\n",
      "3\n",
      "Please enter the time in seconds for each students\n",
      "student 1\n",
      "82\n",
      "student 2\n",
      "67\n",
      "student 3\n",
      "45\n",
      "the average time for the 3 students was:\n",
      "64.67\n"
     ]
    }
   ],
   "source": [
    "print(\"Please enter the number of students:\")\n",
    "ns=int(input())\n",
    "print(\"Please enter the time in seconds for each students\")\n",
    "time=0\n",
    "for i in range(1,ns+1):\n",
    "    print(\"student\",i)\n",
    "    t=int(input())\n",
    "    time=time+t\n",
    "avg=time/ns\n",
    "print(\"the average time for the\",ns,\"students was:\")\n",
    "print(round(avg,2))"
   ]
  },
  {
   "cell_type": "markdown",
   "metadata": {},
   "source": [
    "## 36 Number patterns"
   ]
  },
  {
   "cell_type": "code",
   "execution_count": 6,
   "metadata": {},
   "outputs": [
    {
     "name": "stdout",
     "output_type": "stream",
     "text": [
      "Odd Numbers List\n",
      "1\n",
      "3\n",
      "5\n",
      "7\n",
      "9\n",
      "11\n"
     ]
    }
   ],
   "source": [
    "print(\"Odd Numbers List\")\n",
    "for i in range(1,12,2):\n",
    "    print(i)"
   ]
  },
  {
   "cell_type": "markdown",
   "metadata": {},
   "source": [
    "## 37 Number Patterns (Part 3)"
   ]
  },
  {
   "cell_type": "code",
   "execution_count": 7,
   "metadata": {},
   "outputs": [
    {
     "name": "stdout",
     "output_type": "stream",
     "text": [
      "This following program will display the odd numbers.\n",
      "Enter the first number in the list\n",
      "5\n",
      "Enter the last number in the list\n",
      "13\n",
      "Odd numbers list\n",
      "5\n",
      "7\n",
      "9\n",
      "11\n",
      "13\n"
     ]
    }
   ],
   "source": [
    "print(\"This following program will display the odd numbers.\")\n",
    "print(\"Enter the first number in the list\")\n",
    "f=int(input())\n",
    "print(\"Enter the last number in the list\")\n",
    "l=int(input())\n",
    "n=l+1\n",
    "print(\"Odd numbers list\")\n",
    "for i in range(f,n,2):\n",
    "    print(i)"
   ]
  },
  {
   "cell_type": "markdown",
   "metadata": {},
   "source": [
    "## 38 Password"
   ]
  },
  {
   "cell_type": "code",
   "execution_count": 8,
   "metadata": {},
   "outputs": [
    {
     "name": "stdout",
     "output_type": "stream",
     "text": [
      "Please enter the password\n",
      "snool\n",
      "Sorry incorrect password,Try again\n",
      "Please enter the password\n",
      "ornery\n",
      "Entry gained\n"
     ]
    }
   ],
   "source": [
    "while True:\n",
    "    print(\"Please enter the password\")\n",
    "    pw=input()\n",
    "    if pw==\"ornery\":\n",
    "        print(\"Entry gained\")\n",
    "        break\n",
    "    else:\n",
    "        print(\"Sorry incorrect password,Try again\")\n",
    "        continue"
   ]
  },
  {
   "cell_type": "markdown",
   "metadata": {},
   "source": [
    "## 39 Number pattern (part 3)"
   ]
  },
  {
   "cell_type": "code",
   "execution_count": 9,
   "metadata": {},
   "outputs": [
    {
     "name": "stdout",
     "output_type": "stream",
     "text": [
      "This following program will display odd numbers.\n",
      "Enter the first odd number in the list\n",
      "5\n",
      "Enter the last odd number on the list\n",
      "17\n",
      "Sorry, the number must be at least 5+20\n",
      "Please re enter the number\n",
      "27\n",
      "5\n",
      "7\n",
      "9\n",
      "11\n",
      "13\n",
      "15\n",
      "17\n",
      "19\n",
      "21\n",
      "23\n",
      "25\n"
     ]
    }
   ],
   "source": [
    "print(\"This following program will display odd numbers.\")\n",
    "print(\"Enter the first odd number in the list\")\n",
    "f=int(input())\n",
    "print(\"Enter the last odd number on the list\")\n",
    "l=int(input())\n",
    "while not(l>f+20):\n",
    "    print(\"Sorry, the number must be at least 5+20\")\n",
    "    print(\"Please re enter the number\")\n",
    "    l=int(input())\n",
    "else:\n",
    "    for i in range(f,l,2):\n",
    "        print(i)"
   ]
  },
  {
   "cell_type": "markdown",
   "metadata": {},
   "source": [
    "##  40 Advice please(part 3)"
   ]
  },
  {
   "cell_type": "code",
   "execution_count": 10,
   "metadata": {},
   "outputs": [
    {
     "name": "stdout",
     "output_type": "stream",
     "text": [
      "Would you like some advise?\n",
      "h\n",
      "Please enter Y or N only.\n",
      "Would you like some advise?\n",
      "N\n",
      "Dont be silly. You definitely need advice!\n",
      "Would you like some advise?\n",
      "Y\n",
      "Dont feed the trolls!\n"
     ]
    }
   ],
   "source": [
    "print(\"Would you like some advise?\")\n",
    "ans=str(input())\n",
    "while ans!=\"Y\" and ans!=\"N\":\n",
    "    print(\"Please enter Y or N only.\")\n",
    "    print(\"Would you like some advise?\")\n",
    "    ans=str(input())\n",
    "if ans==\"N\":\n",
    "    print(\"Dont be silly. You definitely need advice!\")\n",
    "    print(\"Would you like some advise?\")\n",
    "    ans=str(input())\n",
    "if ans==\"Y\":\n",
    "    print(\"Dont feed the trolls!\")"
   ]
  },
  {
   "cell_type": "markdown",
   "metadata": {},
   "source": [
    "## 41 No more presents"
   ]
  },
  {
   "cell_type": "code",
   "execution_count": 11,
   "metadata": {},
   "outputs": [
    {
     "name": "stdout",
     "output_type": "stream",
     "text": [
      "Enter the price of each present\n",
      "35\n",
      "100\n",
      "50\n",
      "45\n",
      "Limit exceeded.\n",
      "You cant include the $ 45 present.\n"
     ]
    }
   ],
   "source": [
    "print(\"Enter the price of each present\")\n",
    "total=0\n",
    "while True:\n",
    "    a=int(input())\n",
    "    total=total+a\n",
    "    if total>200:\n",
    "        print(\"Limit exceeded.\")\n",
    "        print(\"You cant include the $\",a,\"present.\")\n",
    "        break"
   ]
  },
  {
   "cell_type": "markdown",
   "metadata": {},
   "source": [
    "### 42 Menu System"
   ]
  },
  {
   "cell_type": "code",
   "execution_count": 1,
   "metadata": {},
   "outputs": [
    {
     "name": "stdout",
     "output_type": "stream",
     "text": [
      "Enter your menu choice (Q, A, K or L)\n",
      "V\n",
      "V is not valid. Enter Q, A,K, or L\n",
      "L\n",
      "L selected\n"
     ]
    }
   ],
   "source": [
    "print(\"Enter your menu choice (Q, A, K or L)\")\n",
    "while True:\n",
    "    menu=input()\n",
    "    m=menu.upper()\n",
    "    if m==\"Q\" or m==\"A\" or m==\"K\" or m==\"L\":\n",
    "        print(m,\"selected\")\n",
    "        break\n",
    "    else:\n",
    "        print(m,\"is not valid. Enter Q, A,K, or L\")\n",
    "        continue"
   ]
  },
  {
   "cell_type": "markdown",
   "metadata": {},
   "source": [
    "## 43 Guess the number"
   ]
  },
  {
   "cell_type": "code",
   "execution_count": 2,
   "metadata": {},
   "outputs": [
    {
     "name": "stdout",
     "output_type": "stream",
     "text": [
      "Guess the hidden number between 1 and 100\n",
      "Enter your guess\n",
      "112\n",
      "Your guess was not valid. Enter it again\n",
      "67\n",
      "Your guess was too high. Try again\n",
      "50\n",
      "your guess was too low. Try again\n",
      "52\n",
      "Correct! Well done\n"
     ]
    }
   ],
   "source": [
    "print(\"Guess the hidden number between 1 and 100\")\n",
    "print(\"Enter your guess\")\n",
    "while True:\n",
    "    guess=int(input())\n",
    "    if guess==52:\n",
    "        print(\"Correct! Well done\")\n",
    "        break\n",
    "    elif guess<52 and guess>1:\n",
    "        print(\"your guess was too low. Try again\")\n",
    "        continue\n",
    "    elif guess>52 and guess<100:\n",
    "        print(\"Your guess was too high. Try again\")\n",
    "        continue\n",
    "    else:\n",
    "        print(\"Your guess was not valid. Enter it again\")\n",
    "        continue"
   ]
  },
  {
   "cell_type": "markdown",
   "metadata": {},
   "source": [
    "## Average tempurature(part 2)"
   ]
  },
  {
   "cell_type": "code",
   "execution_count": 7,
   "metadata": {},
   "outputs": [
    {
     "name": "stdout",
     "output_type": "stream",
     "text": [
      "Week 1\n",
      "Please enter the seven temperature\n",
      "12\n",
      "14\n",
      "7\n",
      "6\n",
      "66\n",
      "Temperature should be between -40 and 55\n",
      "7\n",
      "11\n",
      "11\n",
      "Week 2\n",
      "Please enter the seven temperature\n",
      "8\n",
      "6\n",
      "17\n",
      "14\n",
      "12\n",
      "3\n",
      "15\n",
      "Week 3\n",
      "Please enter the seven temperature\n",
      "20\n",
      "23\n",
      "25\n",
      "21\n",
      "14\n",
      "15\n",
      "19\n",
      "Week 4\n",
      "Please enter the seven temperature\n",
      "12\n",
      "13\n",
      "14\n",
      "15\n",
      "16\n",
      "17\n",
      "18\n",
      "Week 1 average was:\n",
      "9.714285714285714\n",
      "Week 2 average was:\n",
      "10.714285714285714\n",
      "Week 3 average was:\n",
      "19.571428571428573\n",
      "Week 4 average was:\n",
      "15.0\n"
     ]
    }
   ],
   "source": [
    "avg_list=[]\n",
    "for i in range(4):    \n",
    "    print(\"Week\",i+1)\n",
    "    print(\"Please enter the seven temperature\")\n",
    "    total=0\n",
    "    for j in range(7):\n",
    "        t=int(input())\n",
    "        while not(t>-40 and t<55):\n",
    "            print(\"Temperature should be between -40 and 55\")\n",
    "            t=int(input())\n",
    "        total=total+t\n",
    "    avg=total/7\n",
    "    avg_list.append(avg)\n",
    "        \n",
    "for k in range(4):\n",
    "    print(\"Week\",k+1,\"average was:\")\n",
    "    print(avg_list[k])"
   ]
  },
  {
   "cell_type": "markdown",
   "metadata": {},
   "source": [
    "## 45 Pailwater darts tournament"
   ]
  },
  {
   "cell_type": "code",
   "execution_count": 8,
   "metadata": {},
   "outputs": [
    {
     "name": "stdout",
     "output_type": "stream",
     "text": [
      "Please enter the scores for player one\n",
      "34\n",
      "26\n",
      "200\n",
      "Invalid score\n",
      "100\n",
      "Please enter the scores for player two\n",
      "78\n",
      "80\n",
      "97\n",
      "Player two scored the highest individual score\n",
      "Player two wins\n"
     ]
    }
   ],
   "source": [
    "total1=0\n",
    "print(\"Please enter the scores for player one\")\n",
    "for p in range(3):\n",
    "    score1=int(input())\n",
    "    while not(score1>0 and score1<180):\n",
    "        print(\"Invalid score\")\n",
    "        score1=int(input())\n",
    "    total1=total1+score1\n",
    "total2=0\n",
    "print(\"Please enter the scores for player two\")\n",
    "for q in range(3):\n",
    "    score2=int(input())\n",
    "    while not(score2>0 and score2<180):\n",
    "        print(\"Invalid score\")\n",
    "        score2=int(input())\n",
    "    total2=total2+score2\n",
    "if total1>total2:\n",
    "    print(\"Player one scored the higheset individual score\")\n",
    "    print(\"Player one wins!!\")\n",
    "elif total1<total2:\n",
    "    print(\"Player two scored the highest individual score\")\n",
    "    print(\"Player two wins\")\n",
    "else:\n",
    "    print(\"Both the players scored the same scores\")"
   ]
  },
  {
   "cell_type": "code",
   "execution_count": null,
   "metadata": {},
   "outputs": [],
   "source": []
  }
 ],
 "metadata": {
  "kernelspec": {
   "display_name": "Python 3",
   "language": "python",
   "name": "python3"
  },
  "language_info": {
   "codemirror_mode": {
    "name": "ipython",
    "version": 3
   },
   "file_extension": ".py",
   "mimetype": "text/x-python",
   "name": "python",
   "nbconvert_exporter": "python",
   "pygments_lexer": "ipython3",
   "version": "3.7.6"
  }
 },
 "nbformat": 4,
 "nbformat_minor": 5
}
